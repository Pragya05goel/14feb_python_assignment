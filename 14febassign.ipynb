{
 "cells": [
  {
   "cell_type": "markdown",
   "id": "3510c433-562e-42bf-a210-9c4dc9191ce3",
   "metadata": {},
   "source": [
    "## ASSIGNMENT"
   ]
  },
  {
   "cell_type": "markdown",
   "id": "005458ba-4573-48ef-a4ae-882a6197fef5",
   "metadata": {},
   "source": [
    "Q1. What is multithreading in python? why is it used? Name the module used to handle threads in python"
   ]
  },
  {
   "cell_type": "markdown",
   "id": "fe850051-dd75-408f-85bf-dbbe5db5822b",
   "metadata": {},
   "source": [
    "Multithreading is a way of achieving multitasking.\n",
    "\n",
    "Multithreading is a threading technique in Python programming to run multiple threads concurrently by rapidly switching between threads with a CPU help (called context switching). Besides, it allows sharing of its data space with the main threads inside a process that share information and communication with other threads easier than individual processes. Multithreading aims to perform multiple tasks simultaneously, which increases performance, speed and improves the rendering of the application.\n",
    "\n",
    "Uses of multithreading are:\n",
    "\n",
    ". It ensures effective utilization of computer system resources.\n",
    "\n",
    ". Multithreaded applications are more responsive.\n",
    "\n",
    ". It shares resources and its state with sub-threads (child) which makes it more economical.\n",
    "\n",
    ". It makes the multiprocessor architecture more effective due to similarity.\n",
    "\n",
    ". It saves time by executing multiple threads at the same time.\n",
    "\n",
    ". The system does not require too much memory to store multiple threads.\n",
    "\n",
    "There are two main modules of multithreading used to handle threads in Python.\n",
    "\n",
    ". The thread module\n",
    "\n",
    ". The threading module"
   ]
  },
  {
   "cell_type": "markdown",
   "id": "f1ee418e-dd40-4d90-8201-21b4a8115739",
   "metadata": {},
   "source": [
    "Q2.why threading module used? write the use of the following functions:\n",
    "\n",
    "activeCount()\n",
    "\n",
    "currentThread()\n",
    "\n",
    "enumerate()"
   ]
  },
  {
   "cell_type": "markdown",
   "id": "a0490480-142e-43e1-99d0-0b372a039db8",
   "metadata": {},
   "source": [
    "The threading module is a high-level implementation of multithreading used to deploy an application in Python. To use multithreading, we need to import the threading module in Python Program.\n",
    "\n",
    ". threading.activeCount() − Returns the number of thread objects that are active.\n",
    "\n",
    ". threading.currentThread() − Returns the number of thread objects in the caller's thread control.\n",
    "\n",
    ". threading.enumerate() − Returns a list of all thread objects that are currently active."
   ]
  },
  {
   "cell_type": "markdown",
   "id": "b6361150-1b60-4b66-8a39-100564b91892",
   "metadata": {},
   "source": [
    "Q3.Explain the following functions:\n",
    "\n",
    "run()\n",
    "\n",
    "start()\n",
    "\n",
    "join()\n",
    "\n",
    "isAlive()"
   ]
  },
  {
   "cell_type": "markdown",
   "id": "ba4c3cec-98d4-486b-8157-b4f7bf2e1a97",
   "metadata": {},
   "source": [
    "run() − The run() method is the entry point for a thread.It represents the thread’s activity.\n",
    "\n",
    "start() − The start() method starts a thread by calling the run method.\n",
    "\n",
    "join() − The join() waits for threads to terminate.\n",
    "\n",
    "isAlive() − The isAlive() method checks whether a thread is still executing.Return whether the thread is alive."
   ]
  },
  {
   "cell_type": "markdown",
   "id": "38c69aa8-60c7-4856-8c0d-c3474a5d5259",
   "metadata": {},
   "source": [
    "Q4.Write a python program to create two threads. Thread one must print the list of squares and thread\n",
    "two must print the list of cubes"
   ]
  },
  {
   "cell_type": "code",
   "execution_count": 1,
   "id": "74ee5055-0a0e-4428-9b34-f001e8fa62dd",
   "metadata": {},
   "outputs": [],
   "source": [
    "import threading"
   ]
  },
  {
   "cell_type": "code",
   "execution_count": 2,
   "id": "3d72221b-1ddb-421c-8168-408523bdf5a2",
   "metadata": {},
   "outputs": [],
   "source": [
    "def squares(x):\n",
    "    print(x**2)\n",
    "    \n",
    "def cubes(x):\n",
    "    print(x**3)    \n",
    "    "
   ]
  },
  {
   "cell_type": "code",
   "execution_count": 3,
   "id": "64847e38-9753-41ac-9655-5b2b1d0192c4",
   "metadata": {},
   "outputs": [],
   "source": [
    "thread1=[threading.Thread(target=squares,args=(i,)) for i in range(1,10)]\n",
    "thread2=[threading.Thread(target=cubes,args=(i,)) for i in range(1,10)]"
   ]
  },
  {
   "cell_type": "code",
   "execution_count": 4,
   "id": "75954d97-47af-44a4-a2c4-91f89e2db926",
   "metadata": {},
   "outputs": [
    {
     "name": "stdout",
     "output_type": "stream",
     "text": [
      "1\n",
      "4\n",
      "9\n",
      "16\n",
      "25\n",
      "36\n",
      "49\n",
      "64\n",
      "81\n"
     ]
    }
   ],
   "source": [
    "for t in thread1:\n",
    "    t.start()"
   ]
  },
  {
   "cell_type": "code",
   "execution_count": 5,
   "id": "7262e3f9-fb04-4b39-931e-9fb042da8a21",
   "metadata": {},
   "outputs": [
    {
     "name": "stdout",
     "output_type": "stream",
     "text": [
      "1\n",
      "8\n",
      "27\n",
      "64\n",
      "125\n",
      "216\n",
      "343\n",
      "512\n",
      "729\n"
     ]
    }
   ],
   "source": [
    "for s in thread2:\n",
    "    s.start()"
   ]
  },
  {
   "cell_type": "markdown",
   "id": "4ab8e333-c397-4bf8-8b4c-007668e9314d",
   "metadata": {},
   "source": [
    "Q5. State advantages and disadvantages of multithreading"
   ]
  },
  {
   "cell_type": "markdown",
   "id": "0b1a6862-fa0d-4b90-bf52-48ae8b0ab8d0",
   "metadata": {},
   "source": [
    "Advantages of multuthreading:\n",
    "\n",
    "1.Responsiveness:\n",
    "\n",
    "Multithreading in an interactive application enables a program to continue running even if a section is blocked or executing a lengthy process, increasing user responsiveness.\n",
    "\n",
    "2.Resource Sharing:\n",
    "\n",
    "Processes can only share the resources only via two techniques such as:\n",
    "\n",
    ". Message Passing\n",
    ". Shared Memory\n",
    "\n",
    "\n",
    "3.Economy:\n",
    "\n",
    "Allocating memory and resources for process creation is an expensive procedure because it is a time and space-consuming task.\n",
    "\n",
    "4.Scalability:\n",
    "\n",
    "The advantages of multi-programming become much more apparent in the case of multiprocessor architecture, when threads may execute in parallel on many processors. When there is just one thread, it is impossible to break the processes into smaller jobs performed by different processors.\n",
    "\n",
    "5.Minimized system resource usage:\n",
    "\n",
    "Threads have a minimal influence on the system's resources. The overhead of creating, maintaining, and managing threads is lower than a general process.\n",
    "\n",
    "6.Utilization of multiprocessor architecture:\n",
    "\n",
    "The advantages of multithreading might be considerably amplified in a multiprocessor architecture, where every thread could execute in parallel on a distinct processor.\n",
    "\n",
    "Disadvantages are:\n",
    "\n",
    ". It needs more careful synchronization.\n",
    "\n",
    ". It can consume a large space of stocks of blocked threads.\n",
    "\n",
    ". It needs support for thread or process.\n",
    "\n",
    ". If a parent process has several threads for proper process functioning, the child processes should also be multithreaded because they may be required.\n",
    "\n",
    ". It imposes context switching overhead."
   ]
  },
  {
   "cell_type": "markdown",
   "id": "9abf2eaf-4471-4f0f-9c73-9866ac34f5a8",
   "metadata": {},
   "source": [
    "Q6. Explain deadlocks and race conditions."
   ]
  },
  {
   "cell_type": "markdown",
   "id": "22841eae-ff25-4537-872a-aac32cb3af51",
   "metadata": {},
   "source": [
    "Race conditions:\n",
    "\n",
    "When two processes are competing with each other causing data corruption.\n",
    "\n",
    "For example, if two processes/threads are trying to execute the following conditions simultaneously, they cause data corruption:\n",
    "\n",
    "Thread 1:\n",
    "total = num1 + num2\n",
    "\n",
    "Thread 2:\n",
    "total = num1 - num2\n",
    "\n",
    "It is very common for the race conditions to go unnoticed during testing even after multiple tests and code reviews. But in production, there would be a lot of processes and threads working parallelly and compete for the same resources, and this problem would occur.\n",
    "\n",
    "Deadloacks:\n",
    "\n",
    "When two processes are waiting for each other directly or indirectly, it is called deadlock.\n",
    "\n",
    "This usually occurs when two processes are waiting for shared resources acquired by others. For example, If thread T1 acquired resource R1 and it also needs resource R2 for it to accomplish its task. But the resource R2 is acquired by thread T2 which is waiting for resource R1(which is acquired by T1). Neither of them will be able to accomplish its task, as they keep waiting for the other resources they need."
   ]
  },
  {
   "cell_type": "markdown",
   "id": "1f8e54a4-acea-47a7-b67d-4eefc320bb1b",
   "metadata": {},
   "source": [
    "---"
   ]
  }
 ],
 "metadata": {
  "kernelspec": {
   "display_name": "Python 3 (ipykernel)",
   "language": "python",
   "name": "python3"
  },
  "language_info": {
   "codemirror_mode": {
    "name": "ipython",
    "version": 3
   },
   "file_extension": ".py",
   "mimetype": "text/x-python",
   "name": "python",
   "nbconvert_exporter": "python",
   "pygments_lexer": "ipython3",
   "version": "3.10.8"
  }
 },
 "nbformat": 4,
 "nbformat_minor": 5
}
